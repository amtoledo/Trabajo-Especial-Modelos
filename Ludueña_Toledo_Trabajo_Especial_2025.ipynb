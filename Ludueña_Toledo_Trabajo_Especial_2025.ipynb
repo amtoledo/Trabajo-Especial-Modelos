{
 "cells": [
  {
   "cell_type": "code",
   "execution_count": 3,
   "id": "9a37ebed",
   "metadata": {},
   "outputs": [],
   "source": [
    "import numpy as np\n",
    "import time\n",
    "import matplotlib.pyplot as plt\n",
    "from tqdm import tqdm"
   ]
  },
  {
   "cell_type": "markdown",
   "id": "91594061",
   "metadata": {},
   "source": [
    "Utilizaremos los siguientes generadores de números uniformes:\n",
    "- `Lineal congruential generator (LCG)`\n",
    "- `XORShift (64 bits)`\n",
    "- `Mersenne Twister (MT19937)`"
   ]
  },
  {
   "cell_type": "code",
   "execution_count": 4,
   "id": "2d0eca8b",
   "metadata": {},
   "outputs": [],
   "source": [
    "class LCG:\n",
    "    def __init__(self, seed):\n",
    "        self.state = seed\n",
    "        self.a = 16807\n",
    "        self.m = 2**31 - 1\n",
    "        self.c = 0\n",
    "    \n",
    "    def random(self):\n",
    "        self.state = (self.state * self.a + self.c) % self.m\n",
    "        return self.state / self.m # Normalize to [0, 1)"
   ]
  },
  {
   "cell_type": "code",
   "execution_count": 5,
   "id": "c9a1c60a",
   "metadata": {},
   "outputs": [],
   "source": [
    "class Xorshift64:\n",
    "    def __init__(self, seed):\n",
    "        if seed == 0:\n",
    "            raise ValueError(\"Seed must be non-zero\")\n",
    "        self.state = seed % (2**64)   \n",
    "         \n",
    "    def random(self):\n",
    "        x = self.state\n",
    "        # Apply the mask after each operation to keep it within 64-bit range\n",
    "        x = (x ^ (x << 13)) & 0xFFFFFFFFFFFFFFFF\n",
    "        x = (x ^ (x >> 7)) & 0xFFFFFFFFFFFFFFFF\n",
    "        x = (x ^ (x << 17)) & 0xFFFFFFFFFFFFFFFF\n",
    "        self.state = x\n",
    "        \n",
    "        return self.state / (2**64) # Normalize to [0, 1)"
   ]
  },
  {
   "cell_type": "code",
   "execution_count": 6,
   "id": "55acd7bd",
   "metadata": {},
   "outputs": [],
   "source": [
    "def MT19937(seed):\n",
    "    \"\"\"\n",
    "    Mersenne Twister (MT19937) to generate a pseudo-random variable.  \n",
    "    Returns a Generator object.\n",
    "    \"\"\"\n",
    "    return np.random.Generator(bit_generator=np.random.MT19937(seed))"
   ]
  },
  {
   "cell_type": "code",
   "execution_count": 7,
   "id": "2a62bec5",
   "metadata": {},
   "outputs": [],
   "source": [
    "class RNG:\n",
    "    \"\"\"\n",
    "    Random Number Generator (RNG)\n",
    "    Use this class to generate a random number using some of the available generators:\n",
    "    - xorshift64\n",
    "    - mt19937\n",
    "    - lcg\n",
    "    The default algorithm is xorshift64.\n",
    "    You can also pass a seed to the RNG. If no seed is provided, the current time in nanoseconds is used as the seed.\n",
    "    The seed must be non-zero for xorshift64 and lcg algorithms.\n",
    "    \n",
    "    Usage:\n",
    "    Without passing seed:\n",
    "    r = RNG(\"xorshift64\")\n",
    "    r.random()\n",
    "    \n",
    "    Passing seed:\n",
    "    r = RNG(\"xorshift64\", seed=1234)\n",
    "    r.random()\n",
    "    \"\"\"\n",
    "    def __init__(self, algo='xorshift64', seed=None):\n",
    "        if seed is None:\n",
    "            seed = 1234\n",
    "        \n",
    "        self.algo = algo.lower()\n",
    "        \n",
    "        if self.algo == 'xorshift64':\n",
    "            if seed == 0:\n",
    "                raise ValueError(\"Seed must be non-zero for Xorshift64\")\n",
    "            self.generator = Xorshift64(seed)\n",
    "        elif self.algo == 'mt19937':\n",
    "            self.generator = MT19937(seed)\n",
    "        elif self.algo == 'lcg':\n",
    "            self.generator = LCG(seed)\n",
    "        else:\n",
    "            raise ValueError(f\"Unknown algorithm: {self.algo}\")\n",
    "    \n",
    "    def random(self):\n",
    "        return self.generator.random()"
   ]
  },
  {
   "cell_type": "markdown",
   "id": "5d5089f0",
   "metadata": {},
   "source": [
    "#### Intensidad del proceso Poisson homogéneo\n",
    "$$\n",
    "    \\lambda(t) = 30 + 30 \\cdot \\sin\\left(\\frac{2\\pi t}{24}\\right) \\text{ (clientes/hora)}\n",
    "$$"
   ]
  },
  {
   "cell_type": "code",
   "execution_count": 8,
   "id": "099f3122",
   "metadata": {},
   "outputs": [],
   "source": [
    "# Intensidad del Poisson proceso homogéneo\n",
    "def lambda_t(t):\n",
    "    \"\"\"\n",
    "    Intensity function for a homogeneous Poisson process.\n",
    "    \"\"\"\n",
    "    return 30 + 30 * np.sin((2*np.pi*t)/24)\n"
   ]
  },
  {
   "cell_type": "markdown",
   "id": "6285fc1d",
   "metadata": {},
   "source": [
    "#### Tiempo de Atención\n",
    "\n",
    "Corresponde a una distribución exponencial con tasa $ \\mu = 40 $ (clientes / hora).  \n",
    "Para calcular el tiempo de atención usamos la transformada inversa:\n",
    "$$\n",
    "    T = -\\frac{1}{40} \\ln{U}\n",
    "$$"
   ]
  },
  {
   "cell_type": "code",
   "execution_count": 9,
   "id": "a278ae57",
   "metadata": {},
   "outputs": [],
   "source": [
    "def service_time(gen: RNG):\n",
    "    u = gen.random()\n",
    "    return -np.log(u) / 40"
   ]
  },
  {
   "cell_type": "markdown",
   "id": "c65bb73e",
   "metadata": {},
   "source": [
    "#### Servidor\n",
    "\n",
    "El servidor se encarga de procesar la lista de eventos t_arrivals.  \n",
    "La función devuelve metricas sobre el uso y evolución del sistema a lo largo del tiempo:\n",
    "\n",
    "- **Tiempo promedio en el sistema por cliente:**  \n",
    "    $ \\text{t\\_end\\_service}[i] - \\text{t\\_arrivals}[i] $\n",
    "- **Tiempo de espera promedio en la cola:**  \n",
    "    $ \\text{t\\_start\\_service}[i] - \\text{t\\_arrivals}[i] $\n",
    "- **Tiempo promedio de servicio:**  \n",
    "    $ \\text{t\\_end\\_service}[i] - \\text{t\\_start\\_service}[i] $\n",
    "- **Registro de variación de longitud de la cola a lo largo del tiempo:**  \n",
    "    $ \\text{events\\_queue} $"
   ]
  },
  {
   "cell_type": "code",
   "execution_count": 10,
   "id": "d778d2ce",
   "metadata": {},
   "outputs": [],
   "source": [
    "from queuelib.queue import FifoMemoryQueue as Queue\n",
    "\n",
    "def server(t_arrivals: list, gen: RNG):\n",
    "    \"\"\"\n",
    "    Handles a list of users and returns metrics about its usage.  \n",
    "    \n",
    "    Parameters:\n",
    "    - **t_arrivals**: List of events\n",
    "    - **gen**: An object of type RNG\n",
    "    \"\"\"\n",
    "    t_server_available = 0\n",
    "    wait_queue = Queue()\n",
    "    \n",
    "    # metrics\n",
    "    t_start_service = []\n",
    "    t_end_service = []\n",
    "    events_queue = []\n",
    "    \n",
    "    # process all events\n",
    "    for t_curr, t_next in zip(t_arrivals, t_arrivals[1:]):\n",
    "        t_arrival = t_curr\n",
    "        \n",
    "        if t_arrival >= t_server_available:\n",
    "            # server is available\n",
    "            t_start = t_arrival\n",
    "            t_service = service_time(gen)\n",
    "            t_end = t_start + t_service\n",
    "            \n",
    "            t_server_available = t_end\n",
    "            \n",
    "            # metrics\n",
    "            t_start_service.append(t_start)\n",
    "            t_end_service.append(t_end)\n",
    "            events_queue.append((t_arrival, len(wait_queue)))\n",
    "            events_queue.append((t_end, len(wait_queue)))\n",
    "\n",
    "            # process events on queue\n",
    "            while len(wait_queue) and t_server_available <= t_next:\n",
    "                wait_queue.pop()\n",
    "                t_start = t_server_available\n",
    "                t_service = service_time(gen)\n",
    "                t_end = t_start + t_service\n",
    "            \n",
    "                t_server_available = t_end\n",
    "                \n",
    "                # metrics\n",
    "                t_start_service.append(t_start)\n",
    "                t_end_service.append(t_end)\n",
    "                events_queue.append((t_arrival, len(wait_queue)))\n",
    "                events_queue.append((t_end, len(wait_queue)))\n",
    "                \n",
    "        else:\n",
    "            # server is unavailable\n",
    "            wait_queue.push(t_curr)\n",
    "            \n",
    "            #metrics\n",
    "            events_queue.append((t_arrival, len(wait_queue)))\n",
    "\n",
    "    return np.array(t_start_service), np.array(t_end_service), np.array(events_queue)"
   ]
  },
  {
   "cell_type": "markdown",
   "id": "79bf5bf6",
   "metadata": {},
   "source": [
    "#### Generación de eventos\n",
    "\n",
    "Generamos eventos con $ t \\ \\epsilon \\ [0, \\ T\\_max] $.  \n",
    "La variable `lambda_max` corresponde al máximo valor posible de la función `lambda_t` que es 60.\n",
    "La generación de candidatos se basa en:  \n",
    "1. Generamos el candidato `u1` y lo sumamos al tiempo transcurrido usando el método de la transformada inversa.\n",
    "2. Si todavía no superamos la cota superior `T_max`, generamos `u2`.\n",
    "3. Decidimos si `t` es un valor razonable para este momento usando la relación $ u2 \\lt \\frac{\\lambda(t)}{60} $ que corresponde a la probabilidad de que se dé lo mencionado.\n",
    "4. Aceptamos `t` y lo agregamos a la lista o seguimos con la siguiente iteración."
   ]
  },
  {
   "cell_type": "code",
   "execution_count": 11,
   "id": "8e6706a5",
   "metadata": {},
   "outputs": [],
   "source": [
    "def events_generator(gen: RNG) -> list:\n",
    "    t = 0\n",
    "    arrivals = []\n",
    "    T_max = 48\n",
    "    lambda_max = 60\n",
    "    \n",
    "    while True:\n",
    "        # Generate an interarrival time candidate\n",
    "        u1 = gen.random()\n",
    "        \n",
    "        # Fix the log(0) issue by ensuring u1 is never exactly 1\n",
    "        if u1 >= 1.0:\n",
    "            u1 = 1.0 - 1e-15  # Very small epsilon to avoid log(0)\n",
    "        \n",
    "        t += -np.log(1 - u1) / lambda_max\n",
    "        \n",
    "        # Terminate if generated time is bigger than T_max bound\n",
    "        if t > T_max:\n",
    "            break\n",
    "        \n",
    "        # Decide if t is accepted based on lambda(t) / lambda_max relation\n",
    "        u2 = gen.random()\n",
    "        if u2 < lambda_t(t) / lambda_max:\n",
    "            arrivals.append(t)\n",
    "    \n",
    "    return np.array(arrivals)\n"
   ]
  },
  {
   "cell_type": "markdown",
   "id": "cd2482f0",
   "metadata": {},
   "source": [
    "Simulamos durante 48 horas, con los 3 generadores de números aleatorios mencionados.\n",
    "Simularemos 1_000 veces con distintas semillas para cada generador y luego tomaremos el promedio de las métricas obtenidas."
   ]
  },
  {
   "cell_type": "code",
   "execution_count": 12,
   "id": "b4198b83",
   "metadata": {},
   "outputs": [],
   "source": [
    "def run_simulation(algo='xorshift64', seed=None):\n",
    "    gen = RNG(algo, seed)\n",
    "    arrivals = events_generator(gen)\n",
    "    \n",
    "    t_start_service, t_end_service, events_queue = server(arrivals, gen)\n",
    "    \n",
    "    return np.array(t_start_service), np.array(t_end_service), np.array(events_queue)"
   ]
  },
  {
   "cell_type": "code",
   "execution_count": 13,
   "id": "d3b0f85a",
   "metadata": {},
   "outputs": [],
   "source": [
    "def calculate_mean(arrays_list):\n",
    "    if not arrays_list:\n",
    "        return np.array([])\n",
    "    # Find the maximum length among the arrays\n",
    "    max_len = max(len(arr) for arr in arrays_list)\n",
    "    \n",
    "    # Create an array NaNs\n",
    "    arrays = []\n",
    "    for arr in arrays_list:\n",
    "        # Create an array full of NaN of the maximum size\n",
    "        nan_array = np.full(max_len, np.nan)\n",
    "        # Copy the original values\n",
    "        nan_array[:len(arr)] = arr\n",
    "        arrays.append(nan_array)\n",
    "    \n",
    "    # Convert to matrix and calculate mean ignoring NaN\n",
    "    matrix = np.array(arrays)\n",
    "    return np.nanmean(matrix, axis=0)"
   ]
  },
  {
   "cell_type": "code",
   "execution_count": 14,
   "id": "aaec79f6",
   "metadata": {},
   "outputs": [
    {
     "name": "stderr",
     "output_type": "stream",
     "text": [
      "  0%|          | 0/1000 [00:00<?, ?it/s]"
     ]
    },
    {
     "name": "stderr",
     "output_type": "stream",
     "text": [
      "100%|██████████| 1000/1000 [01:44<00:00,  9.54it/s]\n",
      "100%|██████████| 1000/1000 [02:37<00:00,  6.36it/s]\n",
      "100%|██████████| 1000/1000 [02:52<00:00,  5.81it/s]\n"
     ]
    }
   ],
   "source": [
    "np.random.seed(42) \n",
    "seeds = np.random.randint(1, 10_000, size=1_000)  # Generate 1_000 random seeds\n",
    "# Initialize an empty array for simulations\n",
    "start_service_simulations = np.array([])  \n",
    "end_service_simulations = np.array([])  \n",
    "events_queue_simulations = np.array([])  \n",
    "generators = [\"Xorshift64\", \"MT19937\", \"LCG\"]\n",
    "for i, algo in enumerate(generators):\n",
    "    all_t_start_service = np.array([])\n",
    "    all_t_end_service = np.array([])\n",
    "    all_events_queue = np.array([])\n",
    "    for seed in tqdm(seeds):\n",
    "        seed = int(seed)\n",
    "        t_start_service, t_end_service, events_queue = run_simulation(algo, seed)\n",
    "        all_t_start_service = np.append(all_t_start_service, t_start_service)\n",
    "        all_t_end_service = np.append(all_t_end_service, t_end_service)\n",
    "        all_events_queue = np.append(all_events_queue, events_queue.flatten())\n",
    "    \n",
    "    # calculate the mean for each algorithm\n",
    "    mean_t_start_service = calculate_mean([all_t_start_service])\n",
    "    mean_t_end_service = calculate_mean([all_t_end_service])\n",
    "    mean_events_queue = calculate_mean([all_events_queue])\n",
    "    # Append the results to the simulations array\n",
    "    start_service_simulations = np.append(start_service_simulations, mean_t_start_service)\n",
    "    end_service_simulations = np.append(end_service_simulations, mean_t_end_service)\n",
    "    events_queue_simulations = np.append(events_queue_simulations, mean_events_queue)\n"
   ]
  },
  {
   "cell_type": "code",
   "execution_count": 19,
   "id": "019ade54",
   "metadata": {},
   "outputs": [],
   "source": [
    "# Plotting to visualize the results and compare the algorithms"
   ]
  },
  {
   "cell_type": "code",
   "execution_count": null,
   "id": "c7458e2b",
   "metadata": {},
   "outputs": [],
   "source": []
  }
 ],
 "metadata": {
  "kernelspec": {
   "display_name": "tp_final",
   "language": "python",
   "name": "python3"
  },
  "language_info": {
   "codemirror_mode": {
    "name": "ipython",
    "version": 3
   },
   "file_extension": ".py",
   "mimetype": "text/x-python",
   "name": "python",
   "nbconvert_exporter": "python",
   "pygments_lexer": "ipython3",
   "version": "3.10.12"
  }
 },
 "nbformat": 4,
 "nbformat_minor": 5
}
