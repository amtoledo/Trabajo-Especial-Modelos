{
 "cells": [
  {
   "cell_type": "code",
   "execution_count": 2,
   "id": "9a37ebed",
   "metadata": {},
   "outputs": [],
   "source": [
    "import numpy as np"
   ]
  },
  {
   "cell_type": "markdown",
   "id": "91594061",
   "metadata": {},
   "source": [
    "Utilizaremos los siguientes generadores de números uniformes:\n",
    "- `Generador congruencial lineal (LCG)` con a = 16807, c = 0, m = 231 − 1\n",
    "- `XORShift` de 64 bits\n",
    "- `Mersenne Twister (MT19937)`"
   ]
  },
  {
   "cell_type": "code",
   "execution_count": 4,
   "id": "c9a1c60a",
   "metadata": {},
   "outputs": [],
   "source": [
    "# class Xorshift32:\n",
    "#     def __init__(self, seed):\n",
    "#         if seed == 0:\n",
    "#             raise ValueError(\"Seed must be non-zero\")\n",
    "#         self.state = seed\n",
    "\n",
    "#     def next(self):\n",
    "#         x = self.state\n",
    "#         x ^= (x << 13) & 0xFFFFFFFF\n",
    "#         x ^= (x >> 17) & 0xFFFFFFFF\n",
    "#         x ^= (x << 5) & 0xFFFFFFFF\n",
    "#         self.state = x & 0xFFFFFFFF\n",
    "#         return self.state\n",
    "\n",
    "\n",
    "class Xorshift64:\n",
    "    def __init__(self, seed):\n",
    "        if seed == 0:\n",
    "            raise ValueError(\"Seed must be non-zero\")\n",
    "        self.state = seed\n",
    "\n",
    "    def next(self):\n",
    "        x = self.state\n",
    "        x ^= (x << 13) & 0xFFFFFFFFFFFFFFFF\n",
    "        x ^= (x >> 7) & 0xFFFFFFFFFFFFFFFF\n",
    "        x ^= (x << 17) & 0xFFFFFFFFFFFFFFFF\n",
    "        self.state = x & 0xFFFFFFFFFFFFFFFF\n",
    "        return self.state\n",
    "\n",
    "\n",
    "# class Xorshift128:\n",
    "#     def __init__(self, seed):\n",
    "#         if len(seed) != 4 or any(s == 0 for s in seed):\n",
    "#             raise ValueError(\"Seed must be a list of 4 non-zero uint32 values\")\n",
    "#         self.state = seed\n",
    "\n",
    "#     def next(self):\n",
    "#         t = self.state[3]\n",
    "#         s = self.state[0]\n",
    "#         self.state[3] = self.state[2]\n",
    "#         self.state[2] = self.state[1]\n",
    "#         self.state[1] = s\n",
    "\n",
    "#         t ^= (t << 11) & 0xFFFFFFFF\n",
    "#         t ^= (t >> 8) & 0xFFFFFFFF\n",
    "#         self.state[0] = t ^ s ^ (s >> 19)\n",
    "#         return self.state[0]\n"
   ]
  },
  {
   "cell_type": "code",
   "execution_count": 5,
   "id": "2d450918",
   "metadata": {},
   "outputs": [],
   "source": [
    "def LCG(seed, n):\n",
    "    \"\"\"\n",
    "    Linear Congruential Generator (LCG) to generate n pseudo-random variables.\n",
    "    \"\"\"\n",
    "    a = 16807\n",
    "    m = 2**31 - 1\n",
    "    variables = []\n",
    "    for _ in range(n):\n",
    "        seed = (a * seed) % m\n",
    "        variables.append(seed/m)\n",
    "    return variables"
   ]
  },
  {
   "cell_type": "code",
   "execution_count": 9,
   "id": "55acd7bd",
   "metadata": {},
   "outputs": [],
   "source": [
    "def MT19937(seed, n):\n",
    "    \"\"\"\n",
    "    Mersenne Twister (MT19937) to generate n pseudo-random variables.\n",
    "    \"\"\"\n",
    "    return np.random.Generator(bit_generator=np.random.MT19937(seed)).random(size=n)"
   ]
  },
  {
   "cell_type": "code",
   "execution_count": 12,
   "id": "2d0eca8b",
   "metadata": {},
   "outputs": [
    {
     "data": {
      "text/plain": [
       "array([0.12038356, 0.40370142, 0.87770263, ..., 0.23346657, 0.07571723,\n",
       "       0.5544606 ])"
      ]
     },
     "execution_count": 12,
     "metadata": {},
     "output_type": "execute_result"
    }
   ],
   "source": [
    "MT19937(1234, 10_000_000)"
   ]
  },
  {
   "cell_type": "markdown",
   "id": "5d5089f0",
   "metadata": {},
   "source": [
    "#### Intensidad del proceso Poisson homogéneo\n",
    "$$\n",
    "    \\lambda(t) = 30 + 30 \\cdot \\sin\\left(\\frac{2\\pi t}{24}\\right) \\text{ (clientes/hora)}\n",
    "$$"
   ]
  },
  {
   "cell_type": "code",
   "execution_count": 10,
   "id": "099f3122",
   "metadata": {},
   "outputs": [],
   "source": [
    "# Intensidad del Poisson proceso homogéneo\n",
    "def lamda(t):\n",
    "    \"\"\"\n",
    "    Intensity function for a homogeneous Poisson process.\n",
    "    \"\"\"\n",
    "    return 30 + 30 * np.sin((2*np.pi*t)/24)\n"
   ]
  }
 ],
 "metadata": {
  "kernelspec": {
   "display_name": "Python 3",
   "language": "python",
   "name": "python3"
  },
  "language_info": {
   "codemirror_mode": {
    "name": "ipython",
    "version": 3
   },
   "file_extension": ".py",
   "mimetype": "text/x-python",
   "name": "python",
   "nbconvert_exporter": "python",
   "pygments_lexer": "ipython3",
   "version": "3.10.12"
  }
 },
 "nbformat": 4,
 "nbformat_minor": 5
}
