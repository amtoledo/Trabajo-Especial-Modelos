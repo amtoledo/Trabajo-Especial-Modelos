{
 "cells": [
  {
   "cell_type": "code",
   "execution_count": 2,
   "id": "9a37ebed",
   "metadata": {},
   "outputs": [],
   "source": [
    "import numpy as np"
   ]
  },
  {
   "cell_type": "markdown",
   "id": "91594061",
   "metadata": {},
   "source": [
    "Utilizaremos los siguientes generadores de números uniformes:\n",
    "- `XORShift (64 bits)`\n",
    "- `Mersenne Twister (MT19937)`\n",
    "- `Linear congruential generator (LCG)` "
   ]
  },
  {
   "cell_type": "code",
   "execution_count": 11,
   "id": "c9a1c60a",
   "metadata": {},
   "outputs": [],
   "source": [
    "class Xorshift64:\n",
    "    def __init__(self, seed):\n",
    "        if seed == 0:\n",
    "            raise ValueError(\"Seed must be non-zero\")\n",
    "        self.state = seed\n",
    "\n",
    "    def next(self):\n",
    "        x = self.state\n",
    "        x ^= (x << 13) & 0xFFFFFFFFFFFFFFFF\n",
    "        x ^= (x >> 7) & 0xFFFFFFFFFFFFFFFF\n",
    "        x ^= (x << 17) & 0xFFFFFFFFFFFFFFFF\n",
    "        self.state = x & 0xFFFFFFFFFFFFFFFF\n",
    "        return self.state"
   ]
  },
  {
   "cell_type": "code",
   "execution_count": 12,
   "id": "55acd7bd",
   "metadata": {},
   "outputs": [],
   "source": [
    "def MT19937(seed, n):\n",
    "    \"\"\"\n",
    "    Mersenne Twister (MT19937) to generate n pseudo-random variables.\n",
    "    \"\"\"\n",
    "    return np.random.Generator(bit_generator=np.random.MT19937(seed)).random(size=n)"
   ]
  },
  {
   "cell_type": "code",
   "execution_count": null,
   "id": "2d0eca8b",
   "metadata": {},
   "outputs": [],
   "source": [
    "def LCG(seed, n):\n",
    "    \"\"\"\n",
    "    Linear Congruential Generator (LCG) to generate n pseudo-random variables.\n",
    "    \"\"\"\n",
    "    a = 16807\n",
    "    m = 2**31 - 1\n",
    "    variables = []\n",
    "    for _ in range(n):\n",
    "        seed = (a * seed) % \n",
    "        variables.append(seed/m)\n",
    "    return variables"
   ]
  },
  {
   "cell_type": "markdown",
   "id": "5d5089f0",
   "metadata": {},
   "source": [
    "#### Intensidad del proceso Poisson homogéneo\n",
    "$$\n",
    "    \\lambda(t) = 30 + 30 \\cdot \\sin\\left(\\frac{2\\pi t}{24}\\right) \\text{ (clientes/hora)}\n",
    "$$"
   ]
  },
  {
   "cell_type": "code",
   "execution_count": null,
   "id": "099f3122",
   "metadata": {},
   "outputs": [],
   "source": [
    "# Intensidad del Poisson proceso homogéneo\n",
    "def lamda(t):\n",
    "    \"\"\"\n",
    "    Intensity function for a homogeneous Poisson process.\n",
    "    \"\"\"\n",
    "    return 30 + 30 * np.sin((2*np.pi*t)/24)"
   ]
  },
  {
   "cell_type": "code",
   "execution_count": null,
   "id": "a48b32df",
   "metadata": {},
   "outputs": [],
   "source": []
  }
 ],
 "metadata": {
  "kernelspec": {
   "display_name": "Python 3",
   "language": "python",
   "name": "python3"
  },
  "language_info": {
   "codemirror_mode": {
    "name": "ipython",
    "version": 3
   },
   "file_extension": ".py",
   "mimetype": "text/x-python",
   "name": "python",
   "nbconvert_exporter": "python",
   "pygments_lexer": "ipython3",
   "version": "3.10.12"
  }
 },
 "nbformat": 4,
 "nbformat_minor": 5
}
