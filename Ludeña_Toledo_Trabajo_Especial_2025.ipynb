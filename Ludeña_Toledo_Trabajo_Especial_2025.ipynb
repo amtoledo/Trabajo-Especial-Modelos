{
 "cells": [
  {
   "cell_type": "code",
   "execution_count": 2,
   "id": "9a37ebed",
   "metadata": {},
   "outputs": [],
   "source": [
    "import numpy as np"
   ]
  },
  {
   "cell_type": "markdown",
   "id": "91594061",
   "metadata": {},
   "source": [
    "Utilizaremos los siguientes generadores de números uniformes:\n",
    "- `XORShift (64 bits)`\n",
    "- `Mersenne Twister (MT19937)`\n",
    "- `Permuted congruential generator (64-bit, PCG64 DXSM)` "
   ]
  },
  {
   "cell_type": "code",
   "execution_count": null,
   "id": "c9a1c60a",
   "metadata": {},
   "outputs": [],
   "source": [
    "class Xorshift64:\n",
    "    def __init__(self, seed):\n",
    "        if seed == 0:\n",
    "            raise ValueError(\"Seed must be non-zero\")\n",
    "        self.state = seed\n",
    "\n",
    "    def next(self):\n",
    "        x = self.state\n",
    "        x ^= (x << 13) & 0xFFFFFFFFFFFFFFFF\n",
    "        x ^= (x >> 7) & 0xFFFFFFFFFFFFFFFF\n",
    "        x ^= (x << 17) & 0xFFFFFFFFFFFFFFFF\n",
    "        self.state = x & 0xFFFFFFFFFFFFFFFF\n",
    "        return self.state"
   ]
  },
  {
   "cell_type": "code",
   "execution_count": null,
   "id": "55acd7bd",
   "metadata": {},
   "outputs": [],
   "source": [
    "def MT19937(seed):\n",
    "    \"\"\"\n",
    "    Mersenne Twister (MT19937) to generate a pseudo-random variable.  \n",
    "    Returns a Generator object.\n",
    "    \"\"\"\n",
    "    return np.random.Generator(bit_generator=np.random.MT19937(seed))"
   ]
  },
  {
   "cell_type": "code",
   "execution_count": null,
   "id": "2d0eca8b",
   "metadata": {},
   "outputs": [],
   "source": [
    "def PCG64(seed):\n",
    "    \"\"\"\n",
    "    Permuted Congruential Generator (PCG64) to generate a pseudo-random variable.  \n",
    "    Returns a Generator object.\n",
    "    \"\"\"\n",
    "    return np.random.Generator(bit_generator=np.random.PCG64(seed))"
   ]
  },
  {
   "cell_type": "code",
   "execution_count": null,
   "id": "2a62bec5",
   "metadata": {},
   "outputs": [],
   "source": [
    "import time\n",
    "\n",
    "class RNG:\n",
    "    \"\"\"\n",
    "    ## Random Number Generator (RNG)  \n",
    "    Use this class to generate a random number using some of the available generators:\n",
    "    - xorshift64\n",
    "    - mt19937\n",
    "    - pcg64\n",
    "    \n",
    "    ### Usage:\n",
    "    Without passing seed:  \n",
    "    r = **RNG**(\"xorshift64\")  \n",
    "    r.random()\n",
    "    \n",
    "    Passing seed:  \n",
    "    r = **RNG**(\"xorshift64\", seed=1234)  \n",
    "    r.random()\n",
    "    \"\"\"\n",
    "    def __init__(self, algo='xorshift64', seed=None):\n",
    "        if seed is None:\n",
    "            seed = int(time.time_ns())\n",
    "        self.algo = algo.lower()\n",
    "\n",
    "        if self.algo == 'xorshift64':\n",
    "            if seed == 0:\n",
    "                raise ValueError(\"Seed must be non-zero for Xorshift64\")\n",
    "            self.generator = Xorshift64(seed)\n",
    "        elif self.algo == 'mt19937':\n",
    "            self.generator = MT19937(seed)\n",
    "        elif self.algo == 'pcg64':\n",
    "            self.generator = PCG64(seed)\n",
    "        else:\n",
    "            raise ValueError(f\"Unknown algorithm: {self.algo}\")\n",
    "\n",
    "    def random(self):\n",
    "        if self.algo == 'xorshift64':\n",
    "            return self.generator.next() / 2**64\n",
    "        else:\n",
    "            return self.generator.random()"
   ]
  },
  {
   "cell_type": "markdown",
   "id": "5d5089f0",
   "metadata": {},
   "source": [
    "#### Intensidad del proceso Poisson homogéneo\n",
    "$$\n",
    "    \\lambda(t) = 30 + 30 \\cdot \\sin\\left(\\frac{2\\pi t}{24}\\right) \\text{ (clientes/hora)}\n",
    "$$"
   ]
  },
  {
   "cell_type": "code",
   "execution_count": null,
   "id": "099f3122",
   "metadata": {},
   "outputs": [],
   "source": [
    "# Intensidad del Poisson proceso homogéneo\n",
    "def lambda_t(t):\n",
    "    \"\"\"\n",
    "    Intensity function for a homogeneous Poisson process.\n",
    "    \"\"\"\n",
    "    return 30 + 30 * np.sin((2*np.pi*t)/24)\n"
   ]
  },
  {
   "cell_type": "markdown",
   "id": "6285fc1d",
   "metadata": {},
   "source": [
    "#### Tiempo de Atención"
   ]
  },
  {
   "cell_type": "code",
   "execution_count": null,
   "id": "a278ae57",
   "metadata": {},
   "outputs": [],
   "source": [
    "def service_time(gen: RNG):\n",
    "    return -np.log(gen.random()) / 40"
   ]
  },
  {
   "cell_type": "markdown",
   "id": "c65bb73e",
   "metadata": {},
   "source": [
    "#### Servidor"
   ]
  },
  {
   "cell_type": "code",
   "execution_count": null,
   "id": "d778d2ce",
   "metadata": {},
   "outputs": [],
   "source": [
    "from queuelib.queue import FifoMemoryQueue as Queue\n",
    "\n",
    "def server(t_arrivals: list, gen: RNG):\n",
    "    t_server_available = 0\n",
    "    wait_queue = Queue()\n",
    "    \n",
    "    # process all events\n",
    "    for t_curr, t_next in zip(t_arrivals, t_arrivals[1:]):\n",
    "        t_arrival = t_curr\n",
    "        \n",
    "        if t_arrival >= t_server_available:\n",
    "            # server is available\n",
    "            t_start = t_arrival\n",
    "            t_service = service_time(gen)\n",
    "            t_end = t_start + t_service\n",
    "            \n",
    "            t_server_available = t_end\n",
    "\n",
    "            # process events on queue\n",
    "            while len(wait_queue) and t_server_available <= t_next:\n",
    "                wait_queue.pop()\n",
    "                t_start = t_server_available\n",
    "                t_service = service_time(gen)\n",
    "                t_end = t_start + t_service\n",
    "            \n",
    "                t_server_available = t_end\n",
    "                \n",
    "        else:\n",
    "            # server is unavailable\n",
    "            wait_queue.push(t_curr)"
   ]
  },
  {
   "cell_type": "markdown",
   "id": "79bf5bf6",
   "metadata": {},
   "source": [
    "#### Generación de eventos"
   ]
  },
  {
   "cell_type": "code",
   "execution_count": null,
   "id": "8e6706a5",
   "metadata": {},
   "outputs": [],
   "source": [
    "def events_generator(gen: RNG) -> list:\n",
    "    t = 0\n",
    "    arrivals = []\n",
    "    T_max = 48\n",
    "    lambda_max = 60\n",
    "    \n",
    "    while True:\n",
    "        # generate an interarrival time candidate\n",
    "        u1 = gen.random()\n",
    "        t += -np.log(1 - u1) / lambda_max\n",
    "        \n",
    "        # terminate if generated time is bigger than T_max bound\n",
    "        if t > T_max:\n",
    "            break\n",
    "        \n",
    "        # decide if t is accepted based on lambda(t) / lambda_max relation\n",
    "        u2 = gen.random()\n",
    "        if u2 < lambda_t(t) / lambda_max:\n",
    "            arrivals.append(t)\n",
    "    \n",
    "    return arrivals"
   ]
  }
 ],
 "metadata": {
  "kernelspec": {
   "display_name": "modelos-trabajo-especial",
   "language": "python",
   "name": "python3"
  },
  "language_info": {
   "codemirror_mode": {
    "name": "ipython",
    "version": 3
   },
   "file_extension": ".py",
   "mimetype": "text/x-python",
   "name": "python",
   "nbconvert_exporter": "python",
   "pygments_lexer": "ipython3",
   "version": "3.12.3"
  }
 },
 "nbformat": 4,
 "nbformat_minor": 5
}
