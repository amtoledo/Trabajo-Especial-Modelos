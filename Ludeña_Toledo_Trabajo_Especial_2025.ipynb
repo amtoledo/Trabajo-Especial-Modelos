{
 "cells": [
  {
   "cell_type": "code",
   "execution_count": 2,
   "id": "9a37ebed",
   "metadata": {},
   "outputs": [],
   "source": [
    "import numpy as np"
   ]
  },
  {
   "cell_type": "markdown",
   "id": "91594061",
   "metadata": {},
   "source": [
    "Utilizaremos los siguientes generadores de números uniformes:\n",
    "- `XORShift (64 bits)`\n",
    "- `Mersenne Twister (MT19937)`\n",
    "- `Permuted congruential generator (64-bit, PCG64 DXSM)` "
   ]
  },
  {
   "cell_type": "code",
   "execution_count": null,
   "id": "c9a1c60a",
   "metadata": {},
   "outputs": [],
   "source": [
    "# class Xorshift32:\n",
    "#     def __init__(self, seed):\n",
    "#         if seed == 0:\n",
    "#             raise ValueError(\"Seed must be non-zero\")\n",
    "#         self.state = seed\n",
    "\n",
    "#     def next(self):\n",
    "#         x = self.state\n",
    "#         x ^= (x << 13) & 0xFFFFFFFF\n",
    "#         x ^= (x >> 17) & 0xFFFFFFFF\n",
    "#         x ^= (x << 5) & 0xFFFFFFFF\n",
    "#         self.state = x & 0xFFFFFFFF\n",
    "#         return self.state\n",
    "\n",
    "\n",
    "class Xorshift64:\n",
    "    def __init__(self, seed):\n",
    "        if seed == 0:\n",
    "            raise ValueError(\"Seed must be non-zero\")\n",
    "        self.state = seed\n",
    "\n",
    "    def next(self):\n",
    "        x = self.state\n",
    "        x ^= (x << 13) & 0xFFFFFFFFFFFFFFFF\n",
    "        x ^= (x >> 7) & 0xFFFFFFFFFFFFFFFF\n",
    "        x ^= (x << 17) & 0xFFFFFFFFFFFFFFFF\n",
    "        self.state = x & 0xFFFFFFFFFFFFFFFF\n",
    "        return self.state\n",
    "\n",
    "\n",
    "# class Xorshift128:\n",
    "#     def __init__(self, seed):\n",
    "#         if len(seed) != 4 or any(s == 0 for s in seed):\n",
    "#             raise ValueError(\"Seed must be a list of 4 non-zero uint32 values\")\n",
    "#         self.state = seed\n",
    "\n",
    "#     def next(self):\n",
    "#         t = self.state[3]\n",
    "#         s = self.state[0]\n",
    "#         self.state[3] = self.state[2]\n",
    "#         self.state[2] = self.state[1]\n",
    "#         self.state[1] = s\n",
    "\n",
    "#         t ^= (t << 11) & 0xFFFFFFFF\n",
    "#         t ^= (t >> 8) & 0xFFFFFFFF\n",
    "#         self.state[0] = t ^ s ^ (s >> 19)\n",
    "#         return self.state[0]\n"
   ]
  },
  {
   "cell_type": "code",
   "execution_count": 15,
   "id": "55acd7bd",
   "metadata": {},
   "outputs": [],
   "source": [
    "def MT19937(seed, n):\n",
    "    \"\"\"\n",
    "    Mersenne Twister (MT19937) to generate n pseudo-random variables.\n",
    "    \"\"\"\n",
    "    return np.random.Generator(bit_generator=np.random.MT19937(seed)).random(size=n)"
   ]
  },
  {
   "cell_type": "code",
   "execution_count": 16,
   "id": "2d0eca8b",
   "metadata": {},
   "outputs": [],
   "source": [
    "def PCG64(seed, n):\n",
    "    \"\"\"\n",
    "    Permuted Congruential Generator (PCG64) to generate n pseudo-random variables.\n",
    "    \"\"\"\n",
    "    return np.random.Generator(bit_generator=np.random.PCG64(seed)).random(size=n)"
   ]
  },
  {
   "cell_type": "markdown",
   "id": "5d5089f0",
   "metadata": {},
   "source": [
    "#### Intensidad del proceso Poisson homogéneo\n",
    "$$\n",
    "    \\lambda(t) = 30 + 30 \\cdot \\sin\\left(\\frac{2\\pi t}{24}\\right) \\text{ (clientes/hora)}\n",
    "$$"
   ]
  },
  {
   "cell_type": "code",
   "execution_count": 10,
   "id": "099f3122",
   "metadata": {},
   "outputs": [],
   "source": [
    "# Intensidad del Poisson proceso homogéneo\n",
    "def lamda(t):\n",
    "    \"\"\"\n",
    "    Intensity function for a homogeneous Poisson process.\n",
    "    \"\"\"\n",
    "    return 30 + 30 * np.sin((2*np.pi*t)/24)\n"
   ]
  },
  {
   "cell_type": "markdown",
   "id": "6285fc1d",
   "metadata": {},
   "source": [
    "#### Tiempo de Atención"
   ]
  },
  {
   "cell_type": "code",
   "execution_count": null,
   "id": "a278ae57",
   "metadata": {},
   "outputs": [],
   "source": [
    "def service_time(gen):\n",
    "    return -np.log(gen) / 40"
   ]
  },
  {
   "cell_type": "markdown",
   "id": "c65bb73e",
   "metadata": {},
   "source": [
    "#### Servidor"
   ]
  },
  {
   "cell_type": "code",
   "execution_count": null,
   "id": "d778d2ce",
   "metadata": {},
   "outputs": [],
   "source": [
    "from queuelib.queue import FifoMemoryQueue as Queue    \n",
    "\n",
    "def server(t_arrivals: list, gen):\n",
    "    t_server_available = 0\n",
    "    wait_queue = Queue()\n",
    "    \n",
    "    # metrics\n",
    "    events_queue = []\n",
    "    t_start_service = []\n",
    "    t_end_service = []\n",
    "    \n",
    "    # process all events\n",
    "    for t_curr, t_next in zip(t_arrivals, t_arrivals[1:]):\n",
    "        t_arrival = t_curr\n",
    "        \n",
    "        if t_arrival >= t_server_available:\n",
    "            # server is available\n",
    "            t_start = t_arrival\n",
    "            t_service = service_time(gen)\n",
    "            t_end = t_start + t_service\n",
    "            \n",
    "            t_server_available = t_end\n",
    "            \n",
    "            # metrics\n",
    "            t_start_service.append(t_start)\n",
    "            t_end_service.append(t_end)\n",
    "            events_queue.append((t_arrival, len(wait_queue)))\n",
    "            events_queue.append((t_end, len(wait_queue)))\n",
    "\n",
    "            # process events on queue\n",
    "            while len(wait_queue) and t_server_available <= t_next:\n",
    "                enq_event = wait_queue.pop()\n",
    "                t_start = enq_event\n",
    "                t_service = service_time(gen)\n",
    "                t_end = t_start + t_service\n",
    "            \n",
    "                t_server_available = t_end\n",
    "                \n",
    "                # metrics\n",
    "                t_start_service.append(t_start)\n",
    "                t_end_service.append(t_end)\n",
    "                events_queue.append((t_arrival, len(wait_queue)))\n",
    "                events_queue.append((t_end, len(wait_queue)))\n",
    "        else:\n",
    "            # server is unavailable\n",
    "            wait_queue.push(t_curr)\n",
    "            # metrics\n",
    "            events_queue.append((t_arrival, len(wait_queue)))"
   ]
  }
 ],
 "metadata": {
  "kernelspec": {
   "display_name": "modelos-trabajo-especial",
   "language": "python",
   "name": "python3"
  },
  "language_info": {
   "codemirror_mode": {
    "name": "ipython",
    "version": 3
   },
   "file_extension": ".py",
   "mimetype": "text/x-python",
   "name": "python",
   "nbconvert_exporter": "python",
   "pygments_lexer": "ipython3",
   "version": "3.12.3"
  }
 },
 "nbformat": 4,
 "nbformat_minor": 5
}
